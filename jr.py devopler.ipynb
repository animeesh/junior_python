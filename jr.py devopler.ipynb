{
 "cells": [
  {
   "cell_type": "markdown",
   "metadata": {},
   "source": [
    "# Odd or even"
   ]
  },
  {
   "cell_type": "code",
   "execution_count": 18,
   "metadata": {},
   "outputs": [
    {
     "name": "stdout",
     "output_type": "stream",
     "text": [
      "enter your valid number: 78\n",
      "even\n"
     ]
    }
   ],
   "source": [
    "num=int(input(\"enter your valid number: \"))\n",
    "\n",
    "if num%2==0:\n",
    "    print(\"even\")\n",
    "else:\n",
    "    print(odd)"
   ]
  },
  {
   "cell_type": "code",
   "execution_count": 14,
   "metadata": {},
   "outputs": [
    {
     "name": "stdout",
     "output_type": "stream",
     "text": [
      "enter your valid number7\n",
      "7\n",
      "0dd\n"
     ]
    }
   ],
   "source": [
    "num=int(input(\"enter your valid number\"))\n",
    "print(num)\n",
    "print(\"even\") if num%2==0 else print(\"odd\")"
   ]
  },
  {
   "cell_type": "markdown",
   "metadata": {},
   "source": [
    "# Word count"
   ]
  },
  {
   "cell_type": "code",
   "execution_count": 21,
   "metadata": {},
   "outputs": [
    {
     "name": "stdout",
     "output_type": "stream",
     "text": [
      "what's on your mind today? -hii\n",
      "3\n"
     ]
    }
   ],
   "source": [
    "string=(input(\"what's on your mind today? -\"))\n",
    "print(len(string))"
   ]
  },
  {
   "cell_type": "markdown",
   "metadata": {},
   "source": [
    "# tip calculator"
   ]
  },
  {
   "cell_type": "code",
   "execution_count": 36,
   "metadata": {},
   "outputs": [
    {
     "name": "stdout",
     "output_type": "stream",
     "text": [
      "whats the total bill amountin rupees? :1000\n",
      "enter tip percent20\n",
      "200.0\n"
     ]
    }
   ],
   "source": [
    "bill_amount=int(input(\"whats the total bill amountin rupees? :\"))\n",
    "tip_percent=int(input(\"enter tip percent\"))\n",
    "amount=((tip_percent*bill_amount)/100)\n",
    "\n",
    "print(amount)\n"
   ]
  },
  {
   "cell_type": "markdown",
   "metadata": {},
   "source": [
    "# Guess the number"
   ]
  },
  {
   "cell_type": "code",
   "execution_count": 57,
   "metadata": {},
   "outputs": [
    {
     "name": "stdout",
     "output_type": "stream",
     "text": [
      "enter number from zero to 5  :- 3\n",
      "oops you loose it was  1\n"
     ]
    }
   ],
   "source": [
    "import random\n",
    "num=random.randrange(5)\n",
    "client=int(input(\"enter number from zero to 5  :- \"))\n",
    "if num==client:\n",
    "    print(\"it's a match! you win\")\n",
    "else:\n",
    "    print(\"oops you loose it was \",num)"
   ]
  },
  {
   "cell_type": "code",
   "execution_count": null,
   "metadata": {},
   "outputs": [],
   "source": []
  }
 ],
 "metadata": {
  "kernelspec": {
   "display_name": "Python 3",
   "language": "python",
   "name": "python3"
  },
  "language_info": {
   "codemirror_mode": {
    "name": "ipython",
    "version": 3
   },
   "file_extension": ".py",
   "mimetype": "text/x-python",
   "name": "python",
   "nbconvert_exporter": "python",
   "pygments_lexer": "ipython3",
   "version": "3.8.3"
  }
 },
 "nbformat": 4,
 "nbformat_minor": 4
}
